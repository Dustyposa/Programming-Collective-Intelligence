{
 "cells": [
  {
   "cell_type": "markdown",
   "id": "fd8431e5-eb11-4858-ba99-1743f6fbcb61",
   "metadata": {},
   "source": [
    "### 读取源数据"
   ]
  },
  {
   "cell_type": "code",
   "execution_count": 58,
   "id": "acf3469f-b2cb-422a-804b-83663613e26e",
   "metadata": {},
   "outputs": [],
   "source": [
    "def read_file(file_name):\n",
    "    \"\"\"读取对应数据文件的数据\"\"\"\n",
    "    fp = open(file_name)\n",
    "    # 列标题\n",
    "    columns = fp.readline().split(\"\\t\")[1:]\n",
    "    row_names, data = [], []\n",
    "    for line in fp:\n",
    "        row_name, *row_data = line.split(\"\\t\")\n",
    "        row_names.append(row_name)\n",
    "        data.append(list(map(float, row_data)))\n",
    "    fp.close()\n",
    "    return row_names, columns, data"
   ]
  },
  {
   "cell_type": "code",
   "execution_count": 27,
   "id": "a9b822ce-a3d9-49ed-b44a-ce3a28a82541",
   "metadata": {},
   "outputs": [],
   "source": [
    "file_name = \"./data/blogdata.txt\""
   ]
  },
  {
   "cell_type": "markdown",
   "id": "3eb3c928-9dd0-4f7d-9f05-34f4c3429b6d",
   "metadata": {},
   "source": [
    "### 定义紧密度（closeness）\n",
    "使用皮尔逊相关度"
   ]
  },
  {
   "cell_type": "code",
   "execution_count": 30,
   "id": "2c6e8a05-b2c8-46f5-ae25-faf1a7d971c4",
   "metadata": {},
   "outputs": [],
   "source": [
    "from math import sqrt, pow\n",
    "\n",
    "def pearson(v1, v2):\n",
    "    # 简单求和\n",
    "    sum1, sum2 = sum(v1), sum(v2)\n",
    "    \n",
    "    # 计算平方和\n",
    "    sum1_pow, sum2_pow = sum((pow(num, 2) for num in v1)), sum((pow(num, 2) for num in v2))\n",
    "    \n",
    "    # 求乘积之和\n",
    "    p_sum = sum((num1 * num2 for num1, num2 in zip(v1, v2)))\n",
    "    \n",
    "    # 计算 r \n",
    "    n = len(v1)\n",
    "    num  = p_sum - (sum1 * sum2 / n)\n",
    "    den = sqrt((sum1_pow - pow(sum1, 2) / n) * (sum2_pow - pow(sum2, 2) / n))\n",
    "    if den == 0:\n",
    "        return 0\n",
    "    return  1.0 - num / den"
   ]
  },
  {
   "cell_type": "markdown",
   "id": "3a199b80-6b45-49e0-a398-7ce8b48793fc",
   "metadata": {},
   "source": [
    "### 定义树状数据"
   ]
  },
  {
   "cell_type": "code",
   "execution_count": 69,
   "id": "d455a83b-a210-4650-9645-157562f7a413",
   "metadata": {},
   "outputs": [],
   "source": [
    "class Bicluster:\n",
    "    def __init__(self, vec, left=None, right=None, distance=0.0, id=None):\n",
    "        self.vec = vec\n",
    "        self.left = left\n",
    "        self.right = right\n",
    "        self.id = id\n",
    "        self.distance = distance\n",
    "    \n",
    "    @property\n",
    "    def is_leaf_node(self):\n",
    "        return self.left is None and self.right is None"
   ]
  },
  {
   "cell_type": "markdown",
   "id": "1c0ca3bd-54cf-41b4-9215-8545f0b98f3f",
   "metadata": {},
   "source": [
    "### 分级聚类主函数"
   ]
  },
  {
   "cell_type": "code",
   "execution_count": 59,
   "id": "dec927bf-3fce-44cd-b05b-cc93e1db58e7",
   "metadata": {},
   "outputs": [],
   "source": [
    "from itertools import combinations\n",
    "\n",
    "def hcluster(rows, distance=pearson):\n",
    "    distances = {}\n",
    "    current_clust_id = -1\n",
    "    # 生成树类数据\n",
    "    clust = [Bicluster(row, id=i) for i, row in enumerate(rows)]\n",
    "    \n",
    "    while len(clust) > 1:\n",
    "        closest = 2\n",
    "        pair = (-1, -1)\n",
    "        for i1, i2 in combinations(range(len(clust)), 2):\n",
    "            id_pair = (clust[i1].id, clust[i2].id)\n",
    "            if id_pair not in distances:\n",
    "                distances[id_pair] = distance(clust[i1].vec, clust[i2].vec)\n",
    "                \n",
    "            d = distances[id_pair]\n",
    "            if d < closest:\n",
    "                closest, pair = d, (i1, i2)\n",
    "                \n",
    "        new_mean_bs = Bicluster(\n",
    "            vec=[sum(vec)/2 for vec in zip(clust[pair[0]].vec, clust[pair[1]].vec)],\n",
    "            left=clust[pair[0]],\n",
    "            right=clust[pair[1]],\n",
    "            id=current_clust_id,\n",
    "            distance=closest\n",
    "        )\n",
    "        \n",
    "        current_clust_id -= 1\n",
    "        del clust[pair[1]]\n",
    "        del clust[pair[0]]\n",
    "        \n",
    "        clust.append(new_mean_bs)    \n",
    "    \n",
    "    return clust[0]"
   ]
  },
  {
   "cell_type": "code",
   "execution_count": 60,
   "id": "428def31-8703-4bcb-b88e-f8739b24e5c9",
   "metadata": {},
   "outputs": [],
   "source": [
    "blog_names, words, data = read_file(file_name=file_name)"
   ]
  },
  {
   "cell_type": "code",
   "execution_count": 70,
   "id": "2332b5c9-8253-4566-9c9f-0b91a96c42ec",
   "metadata": {},
   "outputs": [],
   "source": [
    "res = hcluster(data)"
   ]
  },
  {
   "cell_type": "code",
   "execution_count": 56,
   "id": "15f39e9f-f051-4989-b5d2-4e9876a71b24",
   "metadata": {},
   "outputs": [
    {
     "data": {
      "text/plain": [
       "-54"
      ]
     },
     "execution_count": 56,
     "metadata": {},
     "output_type": "execute_result"
    }
   ],
   "source": [
    "res.id"
   ]
  },
  {
   "cell_type": "code",
   "execution_count": 49,
   "id": "f4f1dc76-3adc-4308-bb7b-eb6caf722bb2",
   "metadata": {},
   "outputs": [],
   "source": [
    "### 分级展示"
   ]
  },
  {
   "cell_type": "code",
   "execution_count": 54,
   "id": "87fcb8ae-12c7-422d-9251-b2f220f41123",
   "metadata": {},
   "outputs": [],
   "source": [
    "def print_clust(clust: Bicluster, labels=None, n=0):\n",
    "    [print(\" \", end=\"\") for i in range(n)]\n",
    "    if clust.id < 0:\n",
    "        # 分支\n",
    "        print('-')\n",
    "    else:\n",
    "        # 叶节点\n",
    "        if labels is None:\n",
    "            print(clust.id)\n",
    "        else:\n",
    "            print(labels[clust.id])\n",
    "    \n",
    "    # 打印左分支和右分支\n",
    "    if clust.left is not None:\n",
    "        print_clust(clust.left, labels, n=n+1)\n",
    "    if clust.right is not None:\n",
    "        print_clust(clust.right, labels, n=n+1)\n",
    "        \n",
    "    "
   ]
  },
  {
   "cell_type": "code",
   "execution_count": null,
   "id": "0a869030-dc54-4f62-8b43-69e1d7cfa907",
   "metadata": {},
   "outputs": [],
   "source": [
    "print_clust(res, labels=blog_names)"
   ]
  },
  {
   "cell_type": "code",
   "execution_count": 62,
   "id": "7d54ae7b-1b49-4778-860e-ea49f9d8324d",
   "metadata": {},
   "outputs": [],
   "source": [
    "from PIL import Image, ImageDraw"
   ]
  },
  {
   "cell_type": "code",
   "execution_count": 71,
   "id": "0b1cecc2-3988-4ffc-8482-26374866fa5f",
   "metadata": {},
   "outputs": [],
   "source": [
    "def get_height(clust: Bicluster):\n",
    "    # 叶节点高度为 1\n",
    "    if clust.is_leaf_node:\n",
    "        return 1\n",
    "    \n",
    "    return get_height(clust.left) + get_height(clust.right)\n",
    "\n",
    "def get_depth(clust: Bicluster):\n",
    "    # 叶节点的距离为 0\n",
    "    if clust.is_leaf_node:\n",
    "        return 0\n",
    "    return max(get_depth(clust.left), get_depth(clust.right)) + clust.distance"
   ]
  },
  {
   "cell_type": "code",
   "execution_count": 73,
   "id": "3532ba51-1036-4cf6-b456-960be7399bc1",
   "metadata": {},
   "outputs": [],
   "source": [
    "def draw_dendrogram(clust, labels, jpeg='clusters.jpg'):\n",
    "    # 高宽\n",
    "    h = get_height(clust) * 20\n",
    "    w = 1200\n",
    "    depth = get_depth(clust)\n",
    "    scaling = float(w - 150) / depth\n",
    "    \n",
    "    img = Image.new('RGB', (w, h), (255, 255, 255))\n",
    "    draw = ImageDraw.Draw(img)\n",
    "    \n",
    "    draw.line((0, h/2, 10, h/2), fill=(255, 0, 0))\n",
    "    \n",
    "    draw_node(draw, clust, 10, (h/2), scaling, labels)\n",
    "    img.save(jpeg, 'JPEG')\n",
    "\n",
    "def draw_node(draw, clust, x, y, scaling, labels):\n",
    "    if clust.id < 0:\n",
    "        h1 = get_height(clust.left) * 20\n",
    "        h2 = get_height(clust.right) * 20\n",
    "        top = y - (h1 + h2) / 2\n",
    "        bottom = y + (h1 + h2)  / 2\n",
    "        \n",
    "        ll = clust.distance * scaling\n",
    "        \n",
    "        # Vertical line from this cluster to children\n",
    "        draw.line((x, top + h1 / 2, x, bottom - h2 / 2), fill=(255, 0, 0))\n",
    "\n",
    "        # Horizontal line to left item\n",
    "        draw.line((x, top + h1 / 2, x + ll, top + h1 / 2), fill=(255, 0, 0))\n",
    "\n",
    "        # Horizontal line to right item\n",
    "        draw.line((x, bottom - h2 / 2, x + ll, bottom - h2 / 2), fill=(255, 0, 0))\n",
    "        \n",
    "        # Call the function to draw the left and right nodes\n",
    "        draw_node(draw, clust.left, x + ll, top + h1 / 2, scaling, labels)\n",
    "        draw_node(draw, clust.right, x + ll, bottom - h2 / 2, scaling, labels)\n",
    "    else:\n",
    "        # If this is an endpoint, draw the item label\n",
    "        draw.text((x + 5, y - 7), labels[clust.id], (0, 0, 0))"
   ]
  },
  {
   "cell_type": "code",
   "execution_count": 74,
   "id": "31e4e7c4-48a0-4706-a265-000051f37954",
   "metadata": {},
   "outputs": [],
   "source": [
    "draw_dendrogram(clust=res, labels=blog_names, jpeg='blog_clust.jpg')"
   ]
  },
  {
   "cell_type": "code",
   "execution_count": 75,
   "id": "9a95aab8-fdba-4e7a-915e-5aedd9fc0cfc",
   "metadata": {},
   "outputs": [],
   "source": [
    "def rotate_matrix(data):\n",
    "    new_data = []\n",
    "    for i in range(len(data[0])):\n",
    "        new_row = [data[j][i] for j in range(len(data))]\n",
    "        new_data.append(new_row)\n",
    "    return new_data\n",
    "    "
   ]
  },
  {
   "cell_type": "code",
   "execution_count": 95,
   "id": "4aabc2ef-c0c0-4d10-be03-5d084197ed59",
   "metadata": {},
   "outputs": [],
   "source": [
    "from random import random"
   ]
  },
  {
   "cell_type": "code",
   "execution_count": 76,
   "id": "1b12baea-0485-4d5a-84c3-6899e6015737",
   "metadata": {},
   "outputs": [],
   "source": [
    "data2 = rotate_matrix(data)"
   ]
  },
  {
   "cell_type": "code",
   "execution_count": 122,
   "id": "b1a10f56-17cb-41ea-846f-a7a7ecbe33d3",
   "metadata": {},
   "outputs": [],
   "source": [
    "def kcluster(rows, distance=pearson, k=4, max_iter=100):\n",
    "    # 确定点的最大值和最小值\n",
    "    ranges = []\n",
    "    for i in range(len(rows[0])):\n",
    "        tmp = [row[i] for row in data]\n",
    "        ranges.append((min(tmp), max(tmp)))\n",
    "\n",
    "    clusters = [[random() * (max_v - min_v) + min_v for min_v, max_v in ranges] for j in range(k)]  # 随机创建 k 个点     \n",
    "\n",
    "    last_matches = None\n",
    "    data_len = len(rows[0])\n",
    "    for t in range(max_iter):\n",
    "        print(f\"迭代第 {t + 1} 次\")\n",
    "        # 寻找离最中心接近的点\n",
    "        best_matches = [[] for i in range(k)]\n",
    "        for j, row in enumerate(rows):\n",
    "            cluster_index, _ = min([(i, distance(cluster, row)) for i, cluster in enumerate(clusters)], key=lambda x: x[1])\n",
    "            best_matches[cluster_index].append(j)\n",
    "        # 如果没变化了，就停止\n",
    "        if best_matches == last_matches:\n",
    "            print(\"达到最佳效果\")\n",
    "            break\n",
    "        last_matches = best_matches\n",
    "        # 中心点移到成员的平均处\n",
    "        for match in best_matches:\n",
    "            avg = []\n",
    "            for i in range(data_len):\n",
    "                avg.append(sum(rows[index][i] for index in match) / data_len)\n",
    "            clusters[match_index] = avg\n",
    "    return best_matches"
   ]
  },
  {
   "cell_type": "code",
   "execution_count": 123,
   "id": "f8eab195-cc5e-4667-aa9d-47079291811c",
   "metadata": {},
   "outputs": [
    {
     "name": "stdout",
     "output_type": "stream",
     "text": [
      "迭代第 1 次\n",
      "迭代第 2 次\n",
      "迭代第 3 次\n",
      "迭代第 4 次\n",
      "达到最佳效果\n",
      "[[18, 54], [5, 7, 9, 10, 11, 15, 19, 24, 26, 27, 37, 38, 40, 42, 44, 47, 48, 53], [6, 13], [0, 1, 2, 3, 4, 8, 12, 14, 16, 17, 20, 21, 22, 23, 25, 28, 29, 30, 31, 32, 33, 34, 35, 36, 39, 41, 43, 45, 46, 49, 50, 51, 52]]\n"
     ]
    }
   ],
   "source": [
    "r = kcluster(data, k=4)\n",
    "print(r)"
   ]
  },
  {
   "cell_type": "markdown",
   "id": "a298d712-3b92-43b0-b3e6-b3ac6d3054c5",
   "metadata": {},
   "source": [
    "### 定义 Tanimoto 系数"
   ]
  },
  {
   "cell_type": "code",
   "execution_count": 126,
   "id": "e0504dc3-29f1-45c4-a3a5-37367d0e6883",
   "metadata": {},
   "outputs": [],
   "source": [
    "def tanimoto(v1, v2):\n",
    "    c1, c2, shr = 0, 0, 0\n",
    "    for d1, d2 in zip(v1, v2):\n",
    "        c1 += d1\n",
    "        c2 += d2\n",
    "        shr += (d1 and d2)\n",
    "    return 1.0 - (float(shr) / (c1+c2-shr))\n"
   ]
  },
  {
   "cell_type": "markdown",
   "id": "bab34fa9-126f-4e61-bd2d-d4cb3df57780",
   "metadata": {},
   "source": [
    "### 对结果聚类"
   ]
  },
  {
   "cell_type": "code",
   "execution_count": 127,
   "id": "d23060dd-7c70-436f-b83f-351af3457d6b",
   "metadata": {},
   "outputs": [],
   "source": [
    "wants, people, data = read_file('data/zebo.txt')\n",
    "clust = hcluster(data, distance=tanimoto)\n",
    "draw_dendrogram(clust, wants)"
   ]
  }
 ],
 "metadata": {
  "kernelspec": {
   "display_name": "Python 3",
   "language": "python",
   "name": "python3"
  },
  "language_info": {
   "codemirror_mode": {
    "name": "ipython",
    "version": 3
   },
   "file_extension": ".py",
   "mimetype": "text/x-python",
   "name": "python",
   "nbconvert_exporter": "python",
   "pygments_lexer": "ipython3",
   "version": "3.8.8"
  }
 },
 "nbformat": 4,
 "nbformat_minor": 5
}
